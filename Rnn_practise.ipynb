{
 "cells": [
  {
   "cell_type": "code",
   "execution_count": 213,
   "metadata": {},
   "outputs": [],
   "source": [
    "import numpy as np\n",
    "import tensorflow as tf\n",
    "from tensorflow.contrib import rnn"
   ]
  },
  {
   "cell_type": "code",
   "execution_count": 214,
   "metadata": {},
   "outputs": [],
   "source": [
    "tf.reset_default_graph()\n",
    "# Target log path\n",
    "logs_path = '/Users/davidjoy/Desktop/log'\n",
    "writer = tf.summary.FileWriter(logs_path)\n",
    "\n",
    "#X_data = np.array([[[1,0,0,0,0,0,0],[0,1,0,0,0,0,0],[0,0,1,0,0,0,0],[0,0,0,1,0,0,0],[0,0,0,0,1,0,0],[0,0,0,0,0,1,0],[0,0,0,0,0,0,1],[0,0,0,0,0,0,1],[0,1,0,0,0,0,0],[0,0,1,0,0,0,0]]])\n",
    "X_data = np.random.rand(1,3,26)"
   ]
  },
  {
   "cell_type": "code",
   "execution_count": 215,
   "metadata": {},
   "outputs": [
    {
     "data": {
      "text/plain": [
       "(1, 3, 26)"
      ]
     },
     "execution_count": 215,
     "metadata": {},
     "output_type": "execute_result"
    }
   ],
   "source": [
    "X_data.shape"
   ]
  },
  {
   "cell_type": "code",
   "execution_count": 216,
   "metadata": {},
   "outputs": [
    {
     "data": {
      "text/plain": [
       "(26, 3)"
      ]
     },
     "execution_count": 216,
     "metadata": {},
     "output_type": "execute_result"
    }
   ],
   "source": [
    "# hyperparameters\n",
    "n_neurons = 8\n",
    "\n",
    "# parameters\n",
    "n_inputs = X_data.shape[2]\n",
    "n_steps = X_data.shape[1]\n",
    "n_inputs,n_steps"
   ]
  },
  {
   "cell_type": "code",
   "execution_count": 217,
   "metadata": {},
   "outputs": [],
   "source": [
    "X = tf.placeholder(tf.float32,[None,n_steps,n_inputs])\n",
    "X_seq = tf.unstack(X,axis=1)\n",
    "cell = rnn.BasicRNNCell(num_units=n_neurons)\n",
    "output,state = rnn.static_rnn(cell,X_seq,dtype=tf.float32)\n",
    "output_st = tf.stack(output,axis=1)"
   ]
  },
  {
   "cell_type": "code",
   "execution_count": 218,
   "metadata": {},
   "outputs": [
    {
     "name": "stdout",
     "output_type": "stream",
     "text": [
      "X_seq shape [batch_size, n_steps, n_inputs]:  [ 3  1 26]\n",
      "output shape [batch_size, n_neurons]:  [3 1 8]\n",
      "state shape [batch_size, n_neurons]:  [1 8]\n",
      "output_st shape [batch_size, n_steps, n_neurons]:  [1 3 8]\n",
      "Is the output of X2 equals to the state? True\n",
      "\ttensorboard --logdir=/Users/davidjoy/Desktop/log\n",
      "Point your web browser to: http://localhost:6006/\n"
     ]
    }
   ],
   "source": [
    "# initialize the variables\n",
    "init = tf.global_variables_initializer()\n",
    "\n",
    "# train\n",
    "with tf.Session() as sess:\n",
    "    sess.run(init)\n",
    "    writer.add_graph(sess.graph)\n",
    "    feed_dict = {X: X_data}\n",
    "    \n",
    "    # print the shape\n",
    "    X_seq1 = sess.run(X_seq,feed_dict=feed_dict)\n",
    "    X_seq_shape = sess.run(tf.shape(X_seq), feed_dict=feed_dict)\n",
    "    output1 = sess.run(output,feed_dict=feed_dict)\n",
    "    output_shape = sess.run(tf.shape(output), feed_dict=feed_dict)\n",
    "    state1 = sess.run(state,feed_dict=feed_dict)\n",
    "    state_shape = sess.run(tf.shape(state), feed_dict=feed_dict)\n",
    "    output_st_shape = sess.run(tf.shape(output_st), feed_dict=feed_dict)\n",
    "    print('X_seq shape [batch_size, n_steps, n_inputs]: ', X_seq_shape)\n",
    "    print('output shape [batch_size, n_neurons]: ', output_shape)\n",
    "    print('state shape [batch_size, n_neurons]: ', state_shape)\n",
    "    print('output_st shape [batch_size, n_steps, n_neurons]: ', output_st_shape)\n",
    "\n",
    "    output_eval, state_eval = sess.run([output, state], feed_dict=feed_dict)\n",
    "    print('Is the output of X2 equals to the state?', np.array_equal(output_eval[2], state_eval))\n",
    "    print(\"\\ttensorboard --logdir=%s\" % (logs_path))\n",
    "    print(\"Point your web browser to: http://localhost:6006/\")"
   ]
  },
  {
   "cell_type": "code",
   "execution_count": 222,
   "metadata": {},
   "outputs": [
    {
     "data": {
      "text/plain": [
       "[array([[ 0.28983417,  0.94875944,  0.27568939,  0.52146417,  0.02344077,\n",
       "          0.12857966,  0.93653661,  0.29924423,  0.25478885,  0.13139975,\n",
       "          0.09165226,  0.74572384,  0.34049323,  0.5035814 ,  0.3502267 ,\n",
       "          0.04662772,  0.82934058,  0.85985821,  0.36623189,  0.32952082,\n",
       "          0.6640057 ,  0.58670104,  0.05144461,  0.71061134,  0.21157382,\n",
       "          0.91524786]], dtype=float32),\n",
       " array([[ 0.97101927,  0.59047049,  0.50110483,  0.62714767,  0.91974568,\n",
       "          0.35089773,  0.47660625,  0.3940219 ,  0.65059072,  0.19135234,\n",
       "          0.07294651,  0.5624373 ,  0.74463665,  0.95151162,  0.39508554,\n",
       "          0.73668087,  0.73092419,  0.77264845,  0.40489185,  0.52165622,\n",
       "          0.7420131 ,  0.55860782,  0.08904514,  0.96960837,  0.42475092,\n",
       "          0.87034529]], dtype=float32),\n",
       " array([[ 0.06224494,  0.58815008,  0.70873582,  0.04820097,  0.23148338,\n",
       "          0.75883621,  0.74834293,  0.43998525,  0.81857383,  0.37161288,\n",
       "          0.24877051,  0.2070611 ,  0.0966659 ,  0.23666939,  0.86580521,\n",
       "          0.8344422 ,  0.10999362,  0.83143604,  0.20764579,  0.19958007,\n",
       "          0.47548059,  0.11599299,  0.01876859,  0.39700466,  0.62703943,\n",
       "          0.25244513]], dtype=float32)]"
      ]
     },
     "execution_count": 222,
     "metadata": {},
     "output_type": "execute_result"
    }
   ],
   "source": [
    "X_seq1"
   ]
  },
  {
   "cell_type": "code",
   "execution_count": 192,
   "metadata": {},
   "outputs": [
    {
     "data": {
      "text/plain": [
       "array([[ 0.71290845,  0.27434731, -0.18854266,  0.254857  ,  0.50511104,\n",
       "        -0.25663856,  0.33918527, -0.51156223]], dtype=float32)"
      ]
     },
     "execution_count": 192,
     "metadata": {},
     "output_type": "execute_result"
    }
   ],
   "source": [
    "state1"
   ]
  },
  {
   "cell_type": "code",
   "execution_count": 220,
   "metadata": {},
   "outputs": [
    {
     "data": {
      "text/plain": [
       "array([[-0.23012204, -0.78130561,  0.83628267,  0.12181109,  0.76163876,\n",
       "        -0.67454571,  0.41057014,  0.53106993]], dtype=float32)"
      ]
     },
     "execution_count": 220,
     "metadata": {},
     "output_type": "execute_result"
    }
   ],
   "source": [
    "output1[-1]"
   ]
  },
  {
   "cell_type": "code",
   "execution_count": 221,
   "metadata": {},
   "outputs": [
    {
     "data": {
      "text/plain": [
       "[array([[ 0.23076978, -0.73699164,  0.65410572,  0.13606308,  0.63506216,\n",
       "          0.15240327, -0.12397362, -0.52287555]], dtype=float32),\n",
       " array([[ 0.16157757, -0.81115305,  0.91662347,  0.26543981,  0.49397168,\n",
       "          0.02633907,  0.03548642, -0.43388811]], dtype=float32),\n",
       " array([[-0.23012204, -0.78130561,  0.83628267,  0.12181109,  0.76163876,\n",
       "         -0.67454571,  0.41057014,  0.53106993]], dtype=float32)]"
      ]
     },
     "execution_count": 221,
     "metadata": {},
     "output_type": "execute_result"
    }
   ],
   "source": [
    "output1"
   ]
  },
  {
   "cell_type": "code",
   "execution_count": 235,
   "metadata": {},
   "outputs": [
    {
     "data": {
      "text/plain": [
       "2"
      ]
     },
     "execution_count": 235,
     "metadata": {},
     "output_type": "execute_result"
    }
   ],
   "source": [
    "import random\n",
    "offset = random.randint(0,5)\n",
    "offset"
   ]
  },
  {
   "cell_type": "code",
   "execution_count": null,
   "metadata": {},
   "outputs": [],
   "source": []
  },
  {
   "cell_type": "code",
   "execution_count": null,
   "metadata": {},
   "outputs": [],
   "source": []
  }
 ],
 "metadata": {
  "kernelspec": {
   "display_name": "Python 3",
   "language": "python",
   "name": "python3"
  },
  "language_info": {
   "codemirror_mode": {
    "name": "ipython",
    "version": 3
   },
   "file_extension": ".py",
   "mimetype": "text/x-python",
   "name": "python",
   "nbconvert_exporter": "python",
   "pygments_lexer": "ipython3",
   "version": "3.6.3"
  }
 },
 "nbformat": 4,
 "nbformat_minor": 2
}
